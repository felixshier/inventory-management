{
 "cells": [
  {
   "cell_type": "code",
   "execution_count": 5,
   "metadata": {},
   "outputs": [],
   "source": [
    "# imports\n",
    "import numpy as np\n",
    "import scipy.stats as ss\n",
    "import matplotlib.pyplot as plt"
   ]
  },
  {
   "cell_type": "code",
   "execution_count": 71,
   "metadata": {},
   "outputs": [
    {
     "data": {
      "text/plain": [
       "[<matplotlib.lines.Line2D at 0x213fdc74df0>]"
      ]
     },
     "execution_count": 71,
     "metadata": {},
     "output_type": "execute_result"
    },
    {
     "data": {
      "image/png": "[encoded data removed]",
      "text/plain": [
       "<Figure size 432x288 with 1 Axes>"
      ]
     },
     "metadata": {
      "needs_background": "light"
     },
     "output_type": "display_data"
    }
   ],
   "source": [
    "# user input\n",
    "myclip_a = 0\n",
    "myclip_b = 200\n",
    "my_mean = 100\n",
    "my_std = 30\n",
    "\n",
    "a, b = (myclip_a - my_mean) / my_std, (myclip_b - my_mean) / my_std\n",
    "x_range = np.linspace(0,200,200)\n",
    "pmf = ss.truncnorm.pdf(x_range, a, b, loc = my_mean, scale = my_std)\n",
    "pmf = [prob/sum(pmf) for prob in pmf]\n",
    "plt.plot(x_range, pmf)"
   ]
  },
  {
   "cell_type": "code",
   "execution_count": 72,
   "metadata": {},
   "outputs": [
    {
     "ename": "ValueError",
     "evalue": "The sum of provided pk is not 1.",
     "output_type": "error",
     "traceback": [
      "\u001b[1;31m---------------------------------------------------------------------------\u001b[0m",
      "\u001b[1;31mValueError\u001b[0m                                Traceback (most recent call last)",
      "\u001b[1;32m<ipython-input-72-f71b4e1ca63a>\u001b[0m in \u001b[0;36m<module>\u001b[1;34m\u001b[0m\n\u001b[0;32m      1\u001b[0m \u001b[0mvalues\u001b[0m \u001b[1;33m=\u001b[0m \u001b[1;33m(\u001b[0m\u001b[0mx_range\u001b[0m\u001b[1;33m,\u001b[0m \u001b[0mpmf\u001b[0m\u001b[1;33m)\u001b[0m\u001b[1;33m\u001b[0m\u001b[1;33m\u001b[0m\u001b[0m\n\u001b[1;32m----> 2\u001b[1;33m \u001b[0mrv\u001b[0m \u001b[1;33m=\u001b[0m \u001b[0mss\u001b[0m\u001b[1;33m.\u001b[0m\u001b[0mrv_discrete\u001b[0m\u001b[1;33m(\u001b[0m\u001b[0mvalues\u001b[0m \u001b[1;33m=\u001b[0m \u001b[0mvalues\u001b[0m\u001b[1;33m)\u001b[0m\u001b[1;33m\u001b[0m\u001b[1;33m\u001b[0m\u001b[0m\n\u001b[0m\u001b[0;32m      3\u001b[0m \u001b[1;33m\u001b[0m\u001b[0m\n\u001b[0;32m      4\u001b[0m \u001b[0mfunc\u001b[0m \u001b[1;33m=\u001b[0m \u001b[1;32mlambda\u001b[0m \u001b[0mx\u001b[0m\u001b[1;33m:\u001b[0m \u001b[0mx\u001b[0m\u001b[1;33m\u001b[0m\u001b[1;33m\u001b[0m\u001b[0m\n\u001b[0;32m      5\u001b[0m \u001b[1;33m\u001b[0m\u001b[0m\n",
      "\u001b[1;32m~\\AppData\\Local\\Programs\\Python\\Python39\\lib\\site-packages\\scipy\\stats\\_distn_infrastructure.py\u001b[0m in \u001b[0;36m__init__\u001b[1;34m(self, a, b, name, badvalue, moment_tol, values, inc, longname, shapes, extradoc, seed)\u001b[0m\n\u001b[0;32m   3527\u001b[0m             \u001b[1;32mraise\u001b[0m \u001b[0mValueError\u001b[0m\u001b[1;33m(\u001b[0m\u001b[1;34m\"All elements of pk must be non-negative.\"\u001b[0m\u001b[1;33m)\u001b[0m\u001b[1;33m\u001b[0m\u001b[1;33m\u001b[0m\u001b[0m\n\u001b[0;32m   3528\u001b[0m         \u001b[1;32mif\u001b[0m \u001b[1;32mnot\u001b[0m \u001b[0mnp\u001b[0m\u001b[1;33m.\u001b[0m\u001b[0mallclose\u001b[0m\u001b[1;33m(\u001b[0m\u001b[0mnp\u001b[0m\u001b[1;33m.\u001b[0m\u001b[0msum\u001b[0m\u001b[1;33m(\u001b[0m\u001b[0mpk\u001b[0m\u001b[1;33m)\u001b[0m\u001b[1;33m,\u001b[0m \u001b[1;36m1\u001b[0m\u001b[1;33m)\u001b[0m\u001b[1;33m:\u001b[0m\u001b[1;33m\u001b[0m\u001b[1;33m\u001b[0m\u001b[0m\n\u001b[1;32m-> 3529\u001b[1;33m             \u001b[1;32mraise\u001b[0m \u001b[0mValueError\u001b[0m\u001b[1;33m(\u001b[0m\u001b[1;34m\"The sum of provided pk is not 1.\"\u001b[0m\u001b[1;33m)\u001b[0m\u001b[1;33m\u001b[0m\u001b[1;33m\u001b[0m\u001b[0m\n\u001b[0m\u001b[0;32m   3530\u001b[0m \u001b[1;33m\u001b[0m\u001b[0m\n\u001b[0;32m   3531\u001b[0m         \u001b[0mindx\u001b[0m \u001b[1;33m=\u001b[0m \u001b[0mnp\u001b[0m\u001b[1;33m.\u001b[0m\u001b[0margsort\u001b[0m\u001b[1;33m(\u001b[0m\u001b[0mnp\u001b[0m\u001b[1;33m.\u001b[0m\u001b[0mravel\u001b[0m\u001b[1;33m(\u001b[0m\u001b[0mxk\u001b[0m\u001b[1;33m)\u001b[0m\u001b[1;33m)\u001b[0m\u001b[1;33m\u001b[0m\u001b[1;33m\u001b[0m\u001b[0m\n",
      "\u001b[1;31mValueError\u001b[0m: The sum of provided pk is not 1."
     ]
    }
   ],
   "source": [
    "values = (x_range, pmf)\n",
    "rv = ss.rv_discrete(values = values)\n",
    "\n",
    "func = lambda x: x\n",
    "\n",
    "rv.expect(func)"
   ]
  },
  {
   "cell_type": "code",
   "execution_count": 73,
   "metadata": {},
   "outputs": [
    {
     "data": {
      "text/plain": [
       "0.9950504959685513"
      ]
     },
     "execution_count": 73,
     "metadata": {},
     "output_type": "execute_result"
    }
   ],
   "source": [
    "sum(pmf)"
   ]
  },
  {
   "cell_type": "code",
   "execution_count": 74,
   "metadata": {},
   "outputs": [
    {
     "data": {
      "text/plain": [
       "array([5.14534531e-05, 5.75000537e-05, 6.41851504e-05, 7.15671074e-05,\n",
       "       7.97085583e-05, 8.86765998e-05, 9.85429819e-05, 1.09384291e-04,\n",
       "       1.21282126e-04, 1.34323263e-04, 1.48599810e-04, 1.64209344e-04,\n",
       "       1.81255029e-04, 1.99845720e-04, 2.20096040e-04, 2.42126427e-04,\n",
       "       2.66063161e-04, 2.92038352e-04, 3.20189894e-04, 3.50661381e-04,\n",
       "       3.83601987e-04, 4.19166286e-04, 4.57514044e-04, 4.98809946e-04,\n",
       "       5.43223272e-04, 5.90927523e-04, 6.42099983e-04, 6.96921218e-04,\n",
       "       7.55574521e-04, 8.18245283e-04, 8.85120308e-04, 9.56387054e-04,\n",
       "       1.03223281e-03, 1.11284383e-03, 1.19840433e-03, 1.28909555e-03,\n",
       "       1.38509460e-03, 1.48657337e-03, 1.59369736e-03, 1.70662438e-03,\n",
       "       1.82550332e-03, 1.95047280e-03, 2.08165980e-03, 2.21917833e-03,\n",
       "       2.36312796e-03, 2.51359245e-03, 2.67063832e-03, 2.83431345e-03,\n",
       "       3.00464570e-03, 3.18164153e-03, 3.36528473e-03, 3.55553511e-03,\n",
       "       3.75232733e-03, 3.95556977e-03, 4.16514353e-03, 4.38090144e-03,\n",
       "       4.60266729e-03, 4.83023511e-03, 5.06336864e-03, 5.30180088e-03,\n",
       "       5.54523386e-03, 5.79333856e-03, 6.04575496e-03, 6.30209232e-03,\n",
       "       6.56192964e-03, 6.82481631e-03, 7.09027293e-03, 7.35779236e-03,\n",
       "       7.62684097e-03, 7.89686008e-03, 8.16726756e-03, 8.43745972e-03,\n",
       "       8.70681327e-03, 8.97468753e-03, 9.24042682e-03, 9.50336295e-03,\n",
       "       9.76281789e-03, 1.00181066e-02, 1.02685400e-02, 1.05134278e-02,\n",
       "       1.07520819e-02, 1.09838193e-02, 1.12079655e-02, 1.14238575e-02,\n",
       "       1.16308474e-02, 1.18283054e-02, 1.20156229e-02, 1.21922157e-02,\n",
       "       1.23575271e-02, 1.25110309e-02, 1.26522339e-02, 1.27806786e-02,\n",
       "       1.28959459e-02, 1.29976573e-02, 1.30854768e-02, 1.31591128e-02,\n",
       "       1.32183198e-02, 1.32628998e-02, 1.32927033e-02, 1.33076301e-02,\n",
       "       1.33076301e-02, 1.32927033e-02, 1.32628998e-02, 1.32183198e-02,\n",
       "       1.31591128e-02, 1.30854768e-02, 1.29976573e-02, 1.28959459e-02,\n",
       "       1.27806786e-02, 1.26522339e-02, 1.25110309e-02, 1.23575271e-02,\n",
       "       1.21922157e-02, 1.20156229e-02, 1.18283054e-02, 1.16308474e-02,\n",
       "       1.14238575e-02, 1.12079655e-02, 1.09838193e-02, 1.07520819e-02,\n",
       "       1.05134278e-02, 1.02685400e-02, 1.00181066e-02, 9.76281789e-03,\n",
       "       9.50336295e-03, 9.24042682e-03, 8.97468753e-03, 8.70681327e-03,\n",
       "       8.43745972e-03, 8.16726756e-03, 7.89686008e-03, 7.62684097e-03,\n",
       "       7.35779236e-03, 7.09027293e-03, 6.82481631e-03, 6.56192964e-03,\n",
       "       6.30209232e-03, 6.04575496e-03, 5.79333856e-03, 5.54523386e-03,\n",
       "       5.30180088e-03, 5.06336864e-03, 4.83023511e-03, 4.60266729e-03,\n",
       "       4.38090144e-03, 4.16514353e-03, 3.95556977e-03, 3.75232733e-03,\n",
       "       3.55553511e-03, 3.36528473e-03, 3.18164153e-03, 3.00464570e-03,\n",
       "       2.83431345e-03, 2.67063832e-03, 2.51359245e-03, 2.36312796e-03,\n",
       "       2.21917833e-03, 2.08165980e-03, 1.95047280e-03, 1.82550332e-03,\n",
       "       1.70662438e-03, 1.59369736e-03, 1.48657337e-03, 1.38509460e-03,\n",
       "       1.28909555e-03, 1.19840433e-03, 1.11284383e-03, 1.03223281e-03,\n",
       "       9.56387054e-04, 8.85120308e-04, 8.18245283e-04, 7.55574521e-04,\n",
       "       6.96921218e-04, 6.42099983e-04, 5.90927523e-04, 5.43223272e-04,\n",
       "       4.98809946e-04, 4.57514044e-04, 4.19166286e-04, 3.83601987e-04,\n",
       "       3.50661381e-04, 3.20189894e-04, 2.92038352e-04, 2.66063161e-04,\n",
       "       2.42126427e-04, 2.20096040e-04, 1.99845720e-04, 1.81255029e-04,\n",
       "       1.64209344e-04, 1.48599810e-04, 1.34323263e-04, 1.21282126e-04,\n",
       "       1.09384291e-04, 9.85429819e-05, 8.86765998e-05, 7.97085583e-05,\n",
       "       7.15671074e-05, 6.41851504e-05, 5.75000537e-05, 5.14534531e-05])"
      ]
     },
     "execution_count": 74,
     "metadata": {},
     "output_type": "execute_result"
    }
   ],
   "source": [
    "pmf"
   ]
  }
 ],
 "metadata": {
  "interpreter": {
   "hash": "5882a54b8e03782dbfcee7a9d1a21618a45f849350c3792cbac6ff6ae5f85b72"
  },
  "kernelspec": {
   "display_name": "Python 3.9.0 64-bit",
   "language": "python",
   "name": "python3"
  },
  "language_info": {
   "codemirror_mode": {
    "name": "ipython",
    "version": 3
   },
   "file_extension": ".py",
   "mimetype": "text/x-python",
   "name": "python",
   "nbconvert_exporter": "python",
   "pygments_lexer": "ipython3",
   "version": "3.9.0"
  },
  "orig_nbformat": 4
 },
 "nbformat": 4,
 "nbformat_minor": 2
}
