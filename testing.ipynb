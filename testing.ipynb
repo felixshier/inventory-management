{
 "cells": [
  {
   "cell_type": "code",
   "execution_count": 68,
   "metadata": {},
   "outputs": [],
   "source": [
    "# imports\n",
    "import numpy as np\n",
    "import scipy.stats as ss\n",
    "import matplotlib.pyplot as plt\n",
    "from functions import *\n",
    "from qlearning import *"
   ]
  },
  {
   "cell_type": "code",
   "execution_count": 105,
   "metadata": {},
   "outputs": [
    {
     "name": "stdout",
     "output_type": "stream",
     "text": [
      "183494\n",
      "[[ -5961.37135052  -6014.84977354  -6081.45058231 ...  -9255.74420696\n",
      "   -8863.62503469  -9358.98503639]\n",
      " [ -2614.21159706  -3139.96104409  -3816.08466324 ...  -6371.76292719\n",
      "   -5522.72402695  -4564.71217906]\n",
      " [ -3456.61934977  -4100.79807029  -3794.72058314 ...  -5208.16476997\n",
      "   -4127.72792294  -5166.95836524]\n",
      " ...\n",
      " [-10128.18758565 -10488.18401615 -10061.52447534 ...  -7120.58964737\n",
      "   -6441.00976473  -5403.66919516]\n",
      " [ -9329.92728105  -8673.07477661 -11956.49878503 ...  -6523.82145566\n",
      "   -8083.08176475  -6237.11245358]\n",
      " [-14013.45559696 -14666.45144161 -14828.06241697 ... -10417.23814913\n",
      "  -11113.53063883 -10193.32728614]]\n",
      "[139 122 140 121  89 128 152 119 151  95 124 107  95 107 105  85  82 102\n",
      " 109  77 100  87  76  58  69  99  70  61  76  95  77  90  79  77  61  56\n",
      "  98  56  60  65  59  64  61  50  93  56  62  58  55  78  73  59  71  71\n",
      "  61  93  29  54  44  36  80  30  30  71  60  37  61  27  53  46  54  35\n",
      "  41  46  31  44  35  77  42  29  25  36  40   1  80  44  22  64  25  36\n",
      "  38  29  36  31  44  26  24  33  19  45  61  11  10  50  13  27   9  29\n",
      "  19  16   0  19  45   9  17  23  17  30  11  36  21  16   1  24  18  15\n",
      "   9  18   1  15  29   7  55  24  32   4  13  20   2  24  31  33   2  24\n",
      "  36   3  31   5   0  32  27  26   9  13   9  10  39   5   5   1  27  26\n",
      "  13  10  14  18   5   9  18   0  23   8  13   0  15  19  20  50  19  57\n",
      "  13   6  24   4  41   3  27  17   2  32  13   4  11  49  31  31  10  10\n",
      "   9   6  22]\n"
     ]
    }
   ],
   "source": [
    "capacity = 200\n",
    "alpha = 0.1\n",
    "gamma = 0.5\n",
    "epsilon = 1\n",
    "iterations = 1000000\n",
    "mu, sigma = 100, 30\n",
    "demand = np.round(np.random.normal(mu, sigma, 1000)).astype(np.int32)\n",
    "\n",
    "q_table = generateQtable(capacity, demand, alpha, gamma, epsilon, iterations)\n",
    "\n",
    "q_policies = generateQpolicies(q_table)\n",
    "\n",
    "print(q_table)\n",
    "\n",
    "print(q_policies)"
   ]
  },
  {
   "cell_type": "code",
   "execution_count": 99,
   "metadata": {},
   "outputs": [
    {
     "data": {
      "text/plain": [
       "150.0"
      ]
     },
     "execution_count": 99,
     "metadata": {},
     "output_type": "execute_result"
    }
   ],
   "source": [
    "quantize(149, 25)"
   ]
  }
 ],
 "metadata": {
  "interpreter": {
   "hash": "5882a54b8e03782dbfcee7a9d1a21618a45f849350c3792cbac6ff6ae5f85b72"
  },
  "kernelspec": {
   "display_name": "Python 3.9.0 64-bit",
   "language": "python",
   "name": "python3"
  },
  "language_info": {
   "codemirror_mode": {
    "name": "ipython",
    "version": 3
   },
   "file_extension": ".py",
   "mimetype": "text/x-python",
   "name": "python",
   "nbconvert_exporter": "python",
   "pygments_lexer": "ipython3",
   "version": "3.9.0"
  },
  "orig_nbformat": 4
 },
 "nbformat": 4,
 "nbformat_minor": 2
}
